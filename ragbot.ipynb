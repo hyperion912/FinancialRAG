{
 "cells": [
  {
   "cell_type": "code",
   "execution_count": 1,
   "metadata": {},
   "outputs": [
    {
     "data": {
      "text/plain": [
       "True"
      ]
     },
     "execution_count": 1,
     "metadata": {},
     "output_type": "execute_result"
    }
   ],
   "source": [
    "# Environment setup\n",
    "from dotenv import load_dotenv\n",
    "import os\n",
    "import warnings\n",
    "os.environ['KMP_DUPLICATE_LIB_OK'] = 'True'\n",
    "warnings.filterwarnings(\"ignore\")\n",
    "load_dotenv()"
   ]
  },
  {
   "cell_type": "code",
   "execution_count": 2,
   "metadata": {},
   "outputs": [],
   "source": [
    "import faiss\n",
    "\n",
    "from langchain_community.docstore.in_memory import InMemoryDocstore\n",
    "from langchain_community.vectorstores import FAISS\n",
    "\n",
    "from langchain_core.output_parsers import StrOutputParser\n",
    "from langchain_core.prompts import ChatPromptTemplate\n",
    "from langchain_core.runnables import RunnablePassthrough\n",
    "\n",
    "from langchain_text_splitters import MarkdownHeaderTextSplitter\n",
    "\n",
    "from langchain_ollama import ChatOllama, OllamaEmbeddings\n",
    "\n",
    "from docling.document_converter import DocumentConverter"
   ]
  },
  {
   "cell_type": "code",
   "execution_count": 4,
   "metadata": {},
   "outputs": [],
   "source": [
    "def load_and_convert_document(file_path):\n",
    "    converter = DocumentConverter()\n",
    "    result = converter.convert(file_path)\n",
    "    return result.document.export_to_markdown()\n",
    "\n",
    "source = \"goog-10-q-q3-2024.pdf\"\n",
    "markdown_content = load_and_convert_document(source)"
   ]
  },
  {
   "cell_type": "code",
   "execution_count": 6,
   "metadata": {},
   "outputs": [],
   "source": [
    "\n",
    "# print(markdown_content)"
   ]
  },
  {
   "cell_type": "code",
   "execution_count": 7,
   "metadata": {},
   "outputs": [],
   "source": [
    "# Splitting markdown content into chunks\n",
    "def get_markdown_splits(markdown_content):\n",
    "    headers_to_split_on = [(\"#\", \"Header 1\"), (\"##\", \"Header 2\"), (\"###\", \"Header 3\")]\n",
    "    markdown_splitter = MarkdownHeaderTextSplitter(headers_to_split_on, strip_headers=False)\n",
    "    return markdown_splitter.split_text(markdown_content)\n",
    "\n",
    "\n",
    "chunks = get_markdown_splits(markdown_content)"
   ]
  },
  {
   "cell_type": "code",
   "execution_count": 8,
   "metadata": {},
   "outputs": [],
   "source": [
    "# Embedding and vector store setup\n",
    "def setup_vector_store(chunks):\n",
    "    embeddings = OllamaEmbeddings(model='nomic-embed-text', base_url=\"http://localhost:11434\")\n",
    "    single_vector = embeddings.embed_query(\"this is some text data\")\n",
    "    index = faiss.IndexFlatL2(len(single_vector))\n",
    "    vector_store = FAISS(\n",
    "        embedding_function=embeddings,\n",
    "        index=index,\n",
    "        docstore=InMemoryDocstore(),\n",
    "        index_to_docstore_id={}\n",
    "    )\n",
    "    vector_store.add_documents(documents=chunks)\n",
    "    return vector_store"
   ]
  },
  {
   "cell_type": "code",
   "execution_count": 9,
   "metadata": {},
   "outputs": [],
   "source": [
    "vector_store = setup_vector_store(chunks)\n",
    "# Setup retriever\n",
    "retriever = vector_store.as_retriever(search_type=\"mmr\", search_kwargs={'k': 3})"
   ]
  },
  {
   "cell_type": "code",
   "execution_count": 10,
   "metadata": {},
   "outputs": [
    {
     "data": {
      "text/plain": [
       "(168, 168)"
      ]
     },
     "execution_count": 10,
     "metadata": {},
     "output_type": "execute_result"
    }
   ],
   "source": [
    "vector_store.index.ntotal, len(chunks)"
   ]
  },
  {
   "cell_type": "code",
   "execution_count": 12,
   "metadata": {},
   "outputs": [],
   "source": [
    "\n",
    "docs = retriever.invoke('what is revenue for september 2024?')\n",
    "# docs"
   ]
  },
  {
   "cell_type": "code",
   "execution_count": 13,
   "metadata": {},
   "outputs": [],
   "source": [
    "# Formatting documents for RAG\n",
    "def format_docs(docs):\n",
    "    return \"\\n\\n\".join([doc.page_content for doc in docs])\n",
    "\n",
    "content = format_docs(docs)"
   ]
  },
  {
   "cell_type": "code",
   "execution_count": 14,
   "metadata": {},
   "outputs": [
    {
     "name": "stdout",
     "output_type": "stream",
     "text": [
      "## Revenue Backlog  \n",
      "As of  September 30, 2024, we had $86.8 billion of remaining performance obligations ('revenue backlog'), primarily related to Google Cloud. Our revenue backlog represents commitments in customer contracts for future services  that  have  not  yet  been  recognized  as  revenue.  The  estimated  revenue  backlog  and  timing  of  revenue recognition  for  these  commitments  is  largely  driven  by  our  ability  to  deliver  in  accordance  with  relevant  contract terms and when our customers utilize services. We expect to recognize approximately half of the revenue backlog as revenues over the next 24 months with the remainder to be recognized thereafter. Revenue backlog includes related deferred revenue currently recorded as well as amounts that will be invoiced in future periods, and excludes contracts with an original expected term of one year or less and cancellable contracts.\n",
      "\n",
      "## Taxes  \n",
      "As  of  September  30,  2024,  we  had  short-term  income  taxes  payable  of  $2.7  billion,  related  to  a  one-time transition tax payable incurred as a result of the U.S. Tax Cuts and Jobs Act (\"Tax Act\"). As permitted by the Tax Act, we will pay the remaining transition tax installment in 2025. We also have long-term taxes payable of $8.2 billion primarily related to uncertain tax positions as of September 30, 2024.\n",
      "\n",
      "## Changes in Internal Control over Financial Reporting  \n",
      "There have been no changes in our internal control over financial reporting that occurred during the quarter ended September 30, 2024 that have materially affected, or are reasonably likely to materially affect, our internal control over financial reporting.\n"
     ]
    }
   ],
   "source": [
    "\n",
    "print(content)"
   ]
  },
  {
   "cell_type": "code",
   "execution_count": 22,
   "metadata": {},
   "outputs": [],
   "source": [
    "# Setting up the RAG chain\n",
    "def create_rag_chain(retriever):\n",
    "    prompt = \"\"\"\n",
    "        You are an assistant for question-answering tasks. Use the following pieces of retrieved context to answer the question.\n",
    "        If you don't know the answer, just say that you don't know.\n",
    "        Answer in bullet points. Make sure your answer is relevant to the question and it is answered from the context only.\n",
    "        ### Question: {question} \n",
    "        \n",
    "        ### Context: {context} \n",
    "        \n",
    "        ### Answer:\n",
    "    \"\"\"\n",
    "    model = ChatOllama(model=\"deepseek-r1:1.5b\", base_url=\"http://localhost:11434\")\n",
    "    prompt_template = ChatPromptTemplate.from_template(prompt)\n",
    "\n",
    "    chain = (\n",
    "        {\"context\": retriever | format_docs, \"question\": RunnablePassthrough()}\n",
    "        | prompt_template\n",
    "        | model\n",
    "        | StrOutputParser()\n",
    "    )\n",
    "    return chain"
   ]
  },
  {
   "cell_type": "code",
   "execution_count": 23,
   "metadata": {},
   "outputs": [],
   "source": [
    "rag_chain = create_rag_chain(retriever)\n"
   ]
  },
  {
   "cell_type": "code",
   "execution_count": 24,
   "metadata": {},
   "outputs": [
    {
     "name": "stdout",
     "output_type": "stream",
     "text": [
      "Question: Which technology business segment contributed the most to the company's revenue, and what was the percentage growth in that segment?\n",
      "<think>\n",
      "Okay, I'm trying to figure out which technology business segment contributed the most to the company's revenue. The question is asking not just about what segment had the highest revenue but also by how much it grew over time.\n",
      "\n",
      "Looking at the context provided, there are two main segments mentioned: Google Services and YouTube ads. There's no mention of \"Nature of Operations,\" so I can skip that for now since the focus is on company revenue.\n",
      "\n",
      "Starting with Google Services, their operating income in 2023 was $23.937 million, and in 2024 it increased to $30.856 million. That's a significant jump. The change from $23.937 to $30.856 is an increase of $6.919 million. To find the percentage growth, I can calculate ((30.856 - 23.937)/23.937) * 100, which would give me the percentage increase from Google Services in 2023 to 2024.\n",
      "\n",
      "Next, looking at YouTube ads, their revenue went up from $2.669 billion in 2023 to $3.4 billion in 2024. That's an increase of about $731 million or a percentage growth based on the original amount. However, since both segments are separate, I need to compare them individually.\n",
      "\n",
      "I'm not sure if \"Nature of Operations\" affects the revenue percentages beyond their own performance. The context doesn't mention any other factors that might have influenced these revenues separately. So, it's safer to focus solely on the provided data for Google Services and YouTube ads.\n",
      "\n",
      "Therefore, the highest contribution segment is likely Google Services with a significant percentage increase.\n",
      "</think>\n",
      "\n",
      "- **Google Services**: Revenue increased from $23,937 million in 2023 to $30,856 million in 2024. The growth was $6.919 million, representing approximately a **28% increase**.\n",
      "\n",
      "- **YouTube Ads**: Revenue increased from $2.669 billion in 2023 to $3.4 billion in 2024. This represents an approximate **7% increase** on the original amount.\n",
      "\n",
      "The segment that contributed the most to the company's revenue is **Google Services**, with a significant percentage growth of approximately 28%.\n",
      "--------------------------------------------------\n",
      "\n"
     ]
    }
   ],
   "source": [
    "# Questions for retrieval\n",
    "# question = \"How much revenue is there for Google in September 2024?\"\n",
    "# question = \"What is the net income for this quarter, and what are the key drivers contributing to its increase or decrease?\"\n",
    "# question = \"Has the company provided guidance for the next quarter or fiscal year? If so, what are the expected revenue and profit margins?\"\n",
    "question = \"Which technology business segment contributed the most to the company's revenue, and what was the percentage growth in that segment?\"\n",
    "# question = \"How has the stock market reacted to this earnings report, and were there any notable comments from the CEO or CFO about future performance?\"\n",
    "# question = \"ask your own question\"\n",
    "\n",
    "print(f\"Question: {question}\")\n",
    "for chunk in rag_chain.stream(question):\n",
    "    print(chunk, end=\"\", flush=True)\n",
    "print(\"\\n\" + \"-\" * 50 + \"\\n\")"
   ]
  },
  {
   "cell_type": "code",
   "execution_count": null,
   "metadata": {},
   "outputs": [],
   "source": []
  }
 ],
 "metadata": {
  "kernelspec": {
   "display_name": "rag_bot",
   "language": "python",
   "name": "python3"
  },
  "language_info": {
   "codemirror_mode": {
    "name": "ipython",
    "version": 3
   },
   "file_extension": ".py",
   "mimetype": "text/x-python",
   "name": "python",
   "nbconvert_exporter": "python",
   "pygments_lexer": "ipython3",
   "version": "3.10.16"
  }
 },
 "nbformat": 4,
 "nbformat_minor": 2
}
